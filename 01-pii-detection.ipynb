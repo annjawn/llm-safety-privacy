{
 "cells": [
  {
   "cell_type": "code",
   "execution_count": null,
   "metadata": {
    "colab": {
     "base_uri": "https://localhost:8080/"
    },
    "id": "tLuLqJDf1Ips",
    "outputId": "b2687995-ddf8-4f50-c0de-001fcbed2304",
    "scrolled": true,
    "tags": []
   },
   "outputs": [],
   "source": [
    "!python -m spacy download en_core_web_lg"
   ]
  },
  {
   "cell_type": "code",
   "execution_count": null,
   "metadata": {
    "colab": {
     "base_uri": "https://localhost:8080/",
     "height": 52
    },
    "id": "Gp8sLnhn0mu1",
    "outputId": "05a412d3-d384-478a-879e-8adc66e780d6"
   },
   "outputs": [],
   "source": [
    "import spacy\n",
    "from spacy import displacy\n",
    "\n",
    "nlp = spacy.load(\"en_core_web_lg\")\n",
    "text = \"Applicant's name is John Doe and he lives in Silver St. \\\n",
    "        and his phone number is 555-123-1290\"\n",
    "doc = nlp(text)\n",
    "\n",
    "displacy.render(doc, style=\"ent\", jupyter=True)\n",
    "\n",
    "# for ent in doc.ents:\n",
    "#     print(ent.text, ent.start_char, ent.end_char, ent.label_)\n"
   ]
  },
  {
   "cell_type": "code",
   "execution_count": null,
   "metadata": {
    "colab": {
     "base_uri": "https://localhost:8080/"
    },
    "id": "rw3RNgMW0xo7",
    "outputId": "28d6edc7-03a6-4683-d397-895a207ace5f"
   },
   "outputs": [],
   "source": [
    "ent_positions = [(ent.start_char, ent.end_char) for ent in doc.ents]\n",
    "\n",
    "for start, end in reversed(ent_positions):\n",
    "    text = text[:start] + '#' * (end - start) + text[end:]\n",
    "\n",
    "print(text)"
   ]
  },
  {
   "cell_type": "code",
   "execution_count": null,
   "metadata": {
    "colab": {
     "base_uri": "https://localhost:8080/"
    },
    "id": "jZvMJLKJETET",
    "outputId": "1ddd85d0-8aed-4c22-b2e4-bef82c8fa873",
    "scrolled": true,
    "tags": []
   },
   "outputs": [],
   "source": [
    "!pip install presidio-analyzer\n",
    "!pip install presidio-anonymizer"
   ]
  },
  {
   "cell_type": "code",
   "execution_count": null,
   "metadata": {
    "colab": {
     "base_uri": "https://localhost:8080/"
    },
    "id": "FE_Yyp7yIdP1",
    "outputId": "c01aea3c-16cc-463b-b9a2-effdb7679a07"
   },
   "outputs": [],
   "source": [
    "from presidio_analyzer import AnalyzerEngine\n",
    "from presidio_anonymizer import AnonymizerEngine\n",
    "\n",
    "text=\"\"\"\n",
    "Applicant's name is John Doe and he lives in Silver St. and his phone number is 555-123-1290.\n",
    "\"\"\"\n",
    "\n",
    "# Set up the engine, loads the NLP module (spaCy model by default)\n",
    "# and other PII recognizers\n",
    "analyzer = AnalyzerEngine()\n",
    "\n",
    "# Call analyzer to get results\n",
    "results = analyzer.analyze(text=text,\n",
    "                          #  entities=[\"PHONE_NUMBER\"],\n",
    "                           language='en')\n",
    "# print(results)\n",
    "for result in results:\n",
    "  print(f\"PII Type={result.entity_type},\",\n",
    "        f\"Start={result.start},\",\n",
    "        f\"End={result.end},\",\n",
    "        f\"Score={result.score}\")\n"
   ]
  },
  {
   "cell_type": "code",
   "execution_count": null,
   "metadata": {
    "id": "vi9RyDrJI6tG"
   },
   "outputs": [],
   "source": [
    "import matplotlib.pyplot as plt"
   ]
  },
  {
   "cell_type": "code",
   "execution_count": null,
   "metadata": {
    "colab": {
     "base_uri": "https://localhost:8080/",
     "height": 564
    },
    "id": "kdQWgt_6LS00",
    "outputId": "7abde7fe-db30-49b7-ce65-3e9286a1bf1c"
   },
   "outputs": [],
   "source": [
    "# Dummy data\n",
    "class Result:\n",
    "    def __init__(self, entity_type, start, end, score):\n",
    "        self.entity_type = entity_type\n",
    "        self.start = start\n",
    "        self.end = end\n",
    "        self.score = score\n",
    "\n",
    "\n",
    "# Counting entity frequencies\n",
    "entity_types = {}\n",
    "for result in results:\n",
    "    if result.entity_type not in entity_types:\n",
    "        entity_types[result.entity_type] = 1\n",
    "    else:\n",
    "        entity_types[result.entity_type] += 1\n",
    "\n",
    "starts = [result.start for result in results]\n",
    "ends = [result.end for result in results]\n",
    "scores = [result.score for result in results]\n",
    "colors = [plt.cm.jet(score) for score in scores]  # Color based on score\n",
    "\n",
    "plt.figure(figsize=(10, 6))\n",
    "plt.scatter(starts, ends, s=[score*300 for score in scores], c=colors, alpha=0.6)  # Marker size based on score\n",
    "plt.title(\"NER Results Scatter Plot\")\n",
    "plt.xlabel(\"Start Position\")\n",
    "plt.ylabel(\"End Position\")\n",
    "plt.colorbar(label=\"Score\")\n",
    "plt.grid(True)\n",
    "plt.show()\n"
   ]
  },
  {
   "cell_type": "code",
   "execution_count": null,
   "metadata": {
    "id": "0m74Vn7aLaCP"
   },
   "outputs": [],
   "source": [
    "from IPython.display import display, HTML\n",
    "import hashlib\n",
    "\n",
    "class Result:\n",
    "    def __init__(self, entity_type, start, end, score):\n",
    "        self.entity_type = entity_type\n",
    "        self.start = start\n",
    "        self.end = end\n",
    "        self.score = score\n",
    "\n",
    "def type_to_color(entity_type):\n",
    "    \"\"\"Convert an entity type to a consistent random color.\"\"\"\n",
    "    # Hash the entity type to get consistent results\n",
    "    hash_object = hashlib.md5(entity_type.encode())\n",
    "    hex_dig = hash_object.hexdigest()\n",
    "    # Take the first 6 characters from the hash to use as a color\n",
    "    color = \"#\" + hex_dig[:6]\n",
    "    return color\n",
    "\n",
    "def annotate_text(text, results):\n",
    "    # Sort results by start position\n",
    "    results.sort(key=lambda x: x.start)\n",
    "\n",
    "    annotated = \"\"\n",
    "    prev_end = 0\n",
    "    for result in results:\n",
    "        # Append text until the start of the entity\n",
    "        annotated += text[prev_end:result.start]\n",
    "        color = type_to_color(result.entity_type)\n",
    "        # Add the highlighted entity\n",
    "        style = f\"display: inline-block; border-radius: 0.25em; padding: 0.25em 0.5em; margin: 0 0.25em; line-height: 1; background-color: cyan; border: 1px solid #bbb;\"\n",
    "        annotated += f\"<mark style='{style}' title='Score: {result.score}'>{text[result.start:result.end]} <span style='font-size: 0.8em; font-weight: bold;'>[ {result.entity_type} ]</span></mark>\"\n",
    "        prev_end = result.end\n",
    "\n",
    "    # Append the remaining text\n",
    "    annotated += text[prev_end:]\n",
    "    return annotated"
   ]
  },
  {
   "cell_type": "code",
   "execution_count": null,
   "metadata": {
    "colab": {
     "base_uri": "https://localhost:8080/",
     "height": 40
    },
    "id": "5BK80f9NShsp",
    "outputId": "2ec7d177-08ac-4cba-eda5-28da2061f47c"
   },
   "outputs": [],
   "source": [
    "annotated = annotate_text(text, results)\n",
    "display(HTML(annotated))"
   ]
  },
  {
   "cell_type": "code",
   "execution_count": null,
   "metadata": {
    "colab": {
     "base_uri": "https://localhost:8080/"
    },
    "id": "5Bar56ReSlGF",
    "outputId": "7a9eb00e-dc56-40f3-dde5-47e5372bdfcb"
   },
   "outputs": [],
   "source": [
    "from presidio_anonymizer import AnonymizerEngine\n",
    "\n",
    "anonymizer = AnonymizerEngine()\n",
    "anonymized_text = anonymizer.anonymize(text=text,analyzer_results=results)\n",
    "print(anonymized_text.text)"
   ]
  },
  {
   "cell_type": "code",
   "execution_count": null,
   "metadata": {
    "colab": {
     "base_uri": "https://localhost:8080/"
    },
    "id": "h8eamKgoXCe9",
    "outputId": "54fcbcf5-eecb-48ed-d880-7e80c4aeadb7"
   },
   "outputs": [],
   "source": [
    "from presidio_anonymizer import AnonymizerEngine\n",
    "from presidio_anonymizer.entities import OperatorConfig\n",
    "\n",
    "operators = dict()\n",
    "for result in results:\n",
    "  operators[result.entity_type] = OperatorConfig(\"mask\", {\"chars_to_mask\": result.end-result.start,\n",
    "                                                          \"masking_char\": \"*\",\n",
    "                                                          \"from_end\": False})\n",
    "\n",
    "\n",
    "anonymizer = AnonymizerEngine()\n",
    "anonymized_results = anonymizer.anonymize(\n",
    "    text=text, analyzer_results=results, operators=operators\n",
    ")\n",
    "\n",
    "print(anonymized_results.text)\n"
   ]
  },
  {
   "cell_type": "code",
   "execution_count": null,
   "metadata": {
    "id": "fYMTbFEFu1Jm"
   },
   "outputs": [],
   "source": []
  }
 ],
 "metadata": {
  "colab": {
   "provenance": []
  },
  "kernelspec": {
   "display_name": "default:Python",
   "language": "python",
   "name": "conda-env-default-py"
  },
  "language_info": {
   "codemirror_mode": {
    "name": "ipython",
    "version": 3
   },
   "file_extension": ".py",
   "mimetype": "text/x-python",
   "name": "python",
   "nbconvert_exporter": "python",
   "pygments_lexer": "ipython3",
   "version": "3.9.7"
  },
  "widgets": {
   "application/vnd.jupyter.widget-state+json": {
    "0b615961c52143feb95d081f6eb86e88": {
     "model_module": "@jupyter-widgets/controls",
     "model_module_version": "1.5.0",
     "model_name": "HTMLModel",
     "state": {
      "_dom_classes": [],
      "_model_module": "@jupyter-widgets/controls",
      "_model_module_version": "1.5.0",
      "_model_name": "HTMLModel",
      "_view_count": null,
      "_view_module": "@jupyter-widgets/controls",
      "_view_module_version": "1.5.0",
      "_view_name": "HTMLView",
      "description": "",
      "description_tooltip": null,
      "layout": "IPY_MODEL_9cc95921c4934618b015a8ec324d8591",
      "placeholder": "​",
      "style": "IPY_MODEL_2a6031ac0a9048848b7d1653c71fe4a6",
      "value": " 0/159571 [00:00&lt;?, ? examples/s]"
     }
    },
    "250d5865916d4859b57b8b1d2fe4652a": {
     "model_module": "@jupyter-widgets/controls",
     "model_module_version": "1.5.0",
     "model_name": "DescriptionStyleModel",
     "state": {
      "_model_module": "@jupyter-widgets/controls",
      "_model_module_version": "1.5.0",
      "_model_name": "DescriptionStyleModel",
      "_view_count": null,
      "_view_module": "@jupyter-widgets/base",
      "_view_module_version": "1.2.0",
      "_view_name": "StyleView",
      "description_width": ""
     }
    },
    "2a6031ac0a9048848b7d1653c71fe4a6": {
     "model_module": "@jupyter-widgets/controls",
     "model_module_version": "1.5.0",
     "model_name": "DescriptionStyleModel",
     "state": {
      "_model_module": "@jupyter-widgets/controls",
      "_model_module_version": "1.5.0",
      "_model_name": "DescriptionStyleModel",
      "_view_count": null,
      "_view_module": "@jupyter-widgets/base",
      "_view_module_version": "1.2.0",
      "_view_name": "StyleView",
      "description_width": ""
     }
    },
    "2b9050fc521c42bda070198ffeaa8a2f": {
     "model_module": "@jupyter-widgets/controls",
     "model_module_version": "1.5.0",
     "model_name": "HTMLModel",
     "state": {
      "_dom_classes": [],
      "_model_module": "@jupyter-widgets/controls",
      "_model_module_version": "1.5.0",
      "_model_name": "HTMLModel",
      "_view_count": null,
      "_view_module": "@jupyter-widgets/controls",
      "_view_module_version": "1.5.0",
      "_view_name": "HTMLView",
      "description": "",
      "description_tooltip": null,
      "layout": "IPY_MODEL_f6a29204403244cc80bc0029b5739443",
      "placeholder": "​",
      "style": "IPY_MODEL_250d5865916d4859b57b8b1d2fe4652a",
      "value": "Generating train split:   0%"
     }
    },
    "32f1512cf0c949e9b35db272636aff65": {
     "model_module": "@jupyter-widgets/controls",
     "model_module_version": "1.5.0",
     "model_name": "ProgressStyleModel",
     "state": {
      "_model_module": "@jupyter-widgets/controls",
      "_model_module_version": "1.5.0",
      "_model_name": "ProgressStyleModel",
      "_view_count": null,
      "_view_module": "@jupyter-widgets/base",
      "_view_module_version": "1.2.0",
      "_view_name": "StyleView",
      "bar_color": null,
      "description_width": ""
     }
    },
    "42e1ca29218d4dd49ecf0c9927dcce36": {
     "model_module": "@jupyter-widgets/controls",
     "model_module_version": "1.5.0",
     "model_name": "HBoxModel",
     "state": {
      "_dom_classes": [],
      "_model_module": "@jupyter-widgets/controls",
      "_model_module_version": "1.5.0",
      "_model_name": "HBoxModel",
      "_view_count": null,
      "_view_module": "@jupyter-widgets/controls",
      "_view_module_version": "1.5.0",
      "_view_name": "HBoxView",
      "box_style": "",
      "children": [
       "IPY_MODEL_2b9050fc521c42bda070198ffeaa8a2f",
       "IPY_MODEL_9aebad4558534e82b223a0e0111187d5",
       "IPY_MODEL_0b615961c52143feb95d081f6eb86e88"
      ],
      "layout": "IPY_MODEL_794fd3b710f94923ac72b377dda56f57"
     }
    },
    "5730215aeea94165abec55e0fb4b3d7c": {
     "model_module": "@jupyter-widgets/base",
     "model_module_version": "1.2.0",
     "model_name": "LayoutModel",
     "state": {
      "_model_module": "@jupyter-widgets/base",
      "_model_module_version": "1.2.0",
      "_model_name": "LayoutModel",
      "_view_count": null,
      "_view_module": "@jupyter-widgets/base",
      "_view_module_version": "1.2.0",
      "_view_name": "LayoutView",
      "align_content": null,
      "align_items": null,
      "align_self": null,
      "border": null,
      "bottom": null,
      "display": null,
      "flex": null,
      "flex_flow": null,
      "grid_area": null,
      "grid_auto_columns": null,
      "grid_auto_flow": null,
      "grid_auto_rows": null,
      "grid_column": null,
      "grid_gap": null,
      "grid_row": null,
      "grid_template_areas": null,
      "grid_template_columns": null,
      "grid_template_rows": null,
      "height": null,
      "justify_content": null,
      "justify_items": null,
      "left": null,
      "margin": null,
      "max_height": null,
      "max_width": null,
      "min_height": null,
      "min_width": null,
      "object_fit": null,
      "object_position": null,
      "order": null,
      "overflow": null,
      "overflow_x": null,
      "overflow_y": null,
      "padding": null,
      "right": null,
      "top": null,
      "visibility": null,
      "width": null
     }
    },
    "794fd3b710f94923ac72b377dda56f57": {
     "model_module": "@jupyter-widgets/base",
     "model_module_version": "1.2.0",
     "model_name": "LayoutModel",
     "state": {
      "_model_module": "@jupyter-widgets/base",
      "_model_module_version": "1.2.0",
      "_model_name": "LayoutModel",
      "_view_count": null,
      "_view_module": "@jupyter-widgets/base",
      "_view_module_version": "1.2.0",
      "_view_name": "LayoutView",
      "align_content": null,
      "align_items": null,
      "align_self": null,
      "border": null,
      "bottom": null,
      "display": null,
      "flex": null,
      "flex_flow": null,
      "grid_area": null,
      "grid_auto_columns": null,
      "grid_auto_flow": null,
      "grid_auto_rows": null,
      "grid_column": null,
      "grid_gap": null,
      "grid_row": null,
      "grid_template_areas": null,
      "grid_template_columns": null,
      "grid_template_rows": null,
      "height": null,
      "justify_content": null,
      "justify_items": null,
      "left": null,
      "margin": null,
      "max_height": null,
      "max_width": null,
      "min_height": null,
      "min_width": null,
      "object_fit": null,
      "object_position": null,
      "order": null,
      "overflow": null,
      "overflow_x": null,
      "overflow_y": null,
      "padding": null,
      "right": null,
      "top": null,
      "visibility": null,
      "width": null
     }
    },
    "9aebad4558534e82b223a0e0111187d5": {
     "model_module": "@jupyter-widgets/controls",
     "model_module_version": "1.5.0",
     "model_name": "FloatProgressModel",
     "state": {
      "_dom_classes": [],
      "_model_module": "@jupyter-widgets/controls",
      "_model_module_version": "1.5.0",
      "_model_name": "FloatProgressModel",
      "_view_count": null,
      "_view_module": "@jupyter-widgets/controls",
      "_view_module_version": "1.5.0",
      "_view_name": "ProgressView",
      "bar_style": "danger",
      "description": "",
      "description_tooltip": null,
      "layout": "IPY_MODEL_5730215aeea94165abec55e0fb4b3d7c",
      "max": 159571,
      "min": 0,
      "orientation": "horizontal",
      "style": "IPY_MODEL_32f1512cf0c949e9b35db272636aff65",
      "value": 0
     }
    },
    "9cc95921c4934618b015a8ec324d8591": {
     "model_module": "@jupyter-widgets/base",
     "model_module_version": "1.2.0",
     "model_name": "LayoutModel",
     "state": {
      "_model_module": "@jupyter-widgets/base",
      "_model_module_version": "1.2.0",
      "_model_name": "LayoutModel",
      "_view_count": null,
      "_view_module": "@jupyter-widgets/base",
      "_view_module_version": "1.2.0",
      "_view_name": "LayoutView",
      "align_content": null,
      "align_items": null,
      "align_self": null,
      "border": null,
      "bottom": null,
      "display": null,
      "flex": null,
      "flex_flow": null,
      "grid_area": null,
      "grid_auto_columns": null,
      "grid_auto_flow": null,
      "grid_auto_rows": null,
      "grid_column": null,
      "grid_gap": null,
      "grid_row": null,
      "grid_template_areas": null,
      "grid_template_columns": null,
      "grid_template_rows": null,
      "height": null,
      "justify_content": null,
      "justify_items": null,
      "left": null,
      "margin": null,
      "max_height": null,
      "max_width": null,
      "min_height": null,
      "min_width": null,
      "object_fit": null,
      "object_position": null,
      "order": null,
      "overflow": null,
      "overflow_x": null,
      "overflow_y": null,
      "padding": null,
      "right": null,
      "top": null,
      "visibility": null,
      "width": null
     }
    },
    "f6a29204403244cc80bc0029b5739443": {
     "model_module": "@jupyter-widgets/base",
     "model_module_version": "1.2.0",
     "model_name": "LayoutModel",
     "state": {
      "_model_module": "@jupyter-widgets/base",
      "_model_module_version": "1.2.0",
      "_model_name": "LayoutModel",
      "_view_count": null,
      "_view_module": "@jupyter-widgets/base",
      "_view_module_version": "1.2.0",
      "_view_name": "LayoutView",
      "align_content": null,
      "align_items": null,
      "align_self": null,
      "border": null,
      "bottom": null,
      "display": null,
      "flex": null,
      "flex_flow": null,
      "grid_area": null,
      "grid_auto_columns": null,
      "grid_auto_flow": null,
      "grid_auto_rows": null,
      "grid_column": null,
      "grid_gap": null,
      "grid_row": null,
      "grid_template_areas": null,
      "grid_template_columns": null,
      "grid_template_rows": null,
      "height": null,
      "justify_content": null,
      "justify_items": null,
      "left": null,
      "margin": null,
      "max_height": null,
      "max_width": null,
      "min_height": null,
      "min_width": null,
      "object_fit": null,
      "object_position": null,
      "order": null,
      "overflow": null,
      "overflow_x": null,
      "overflow_y": null,
      "padding": null,
      "right": null,
      "top": null,
      "visibility": null,
      "width": null
     }
    }
   }
  }
 },
 "nbformat": 4,
 "nbformat_minor": 4
}
